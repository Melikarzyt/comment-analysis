{
 "cells": [
  {
   "cell_type": "code",
   "execution_count": 1,
   "id": "5a653e5a",
   "metadata": {},
   "outputs": [],
   "source": [
    "import numpy as np\n",
    "import pandas as pd"
   ]
  },
  {
   "cell_type": "code",
   "execution_count": 2,
   "id": "012399e7",
   "metadata": {},
   "outputs": [
    {
     "data": {
      "text/html": [
       "<div>\n",
       "<style scoped>\n",
       "    .dataframe tbody tr th:only-of-type {\n",
       "        vertical-align: middle;\n",
       "    }\n",
       "\n",
       "    .dataframe tbody tr th {\n",
       "        vertical-align: top;\n",
       "    }\n",
       "\n",
       "    .dataframe thead th {\n",
       "        text-align: right;\n",
       "    }\n",
       "</style>\n",
       "<table border=\"1\" class=\"dataframe\">\n",
       "  <thead>\n",
       "    <tr style=\"text-align: right;\">\n",
       "      <th></th>\n",
       "      <th>comment</th>\n",
       "      <th>price_value</th>\n",
       "    </tr>\n",
       "  </thead>\n",
       "  <tbody>\n",
       "    <tr>\n",
       "      <th>0</th>\n",
       "      <td>قیمت مناسب وکیفیت خوب پیشنهادمیکنم حتما خرید کنید</td>\n",
       "      <td>1</td>\n",
       "    </tr>\n",
       "    <tr>\n",
       "      <th>1</th>\n",
       "      <td>به اندازه یک میلیمتر دورتادور گوشی خالی میماند...</td>\n",
       "      <td>0</td>\n",
       "    </tr>\n",
       "    <tr>\n",
       "      <th>2</th>\n",
       "      <td>از همه نظر عالی و یک خرید خوب در  قیمت حدود۴۰ ...</td>\n",
       "      <td>1</td>\n",
       "    </tr>\n",
       "    <tr>\n",
       "      <th>3</th>\n",
       "      <td>فقط یک بار هر یک ربع ساعت 1 درصد شارژ کرد بعدش...</td>\n",
       "      <td>0</td>\n",
       "    </tr>\n",
       "    <tr>\n",
       "      <th>4</th>\n",
       "      <td>قیمت این کالا خیلی تغییر میکنه . من خریدم چندر...</td>\n",
       "      <td>1</td>\n",
       "    </tr>\n",
       "    <tr>\n",
       "      <th>...</th>\n",
       "      <td>...</td>\n",
       "      <td>...</td>\n",
       "    </tr>\n",
       "    <tr>\n",
       "      <th>39995</th>\n",
       "      <td>خیلی خوبه واسه گوشی m20ولی یه ترک از پایین داش...</td>\n",
       "      <td>0</td>\n",
       "    </tr>\n",
       "    <tr>\n",
       "      <th>39996</th>\n",
       "      <td>چند روزه دارم استفاده میکنم در یک کلام عالیه\\r...</td>\n",
       "      <td>1</td>\n",
       "    </tr>\n",
       "    <tr>\n",
       "      <th>39997</th>\n",
       "      <td>من سی تومن خریدم و با توجه به قیمت ارزش خرید د...</td>\n",
       "      <td>1</td>\n",
       "    </tr>\n",
       "    <tr>\n",
       "      <th>39998</th>\n",
       "      <td>عالیه از هر نظر \\nهم قیمتش کمه \\nهم قطعاتش زیا...</td>\n",
       "      <td>0</td>\n",
       "    </tr>\n",
       "    <tr>\n",
       "      <th>39999</th>\n",
       "      <td>من برای داخل ماشین جاهای که دست نمیره خریدم یه...</td>\n",
       "      <td>0</td>\n",
       "    </tr>\n",
       "  </tbody>\n",
       "</table>\n",
       "<p>40000 rows × 2 columns</p>\n",
       "</div>"
      ],
      "text/plain": [
       "                                                 comment  price_value\n",
       "0      قیمت مناسب وکیفیت خوب پیشنهادمیکنم حتما خرید کنید            1\n",
       "1      به اندازه یک میلیمتر دورتادور گوشی خالی میماند...            0\n",
       "2      از همه نظر عالی و یک خرید خوب در  قیمت حدود۴۰ ...            1\n",
       "3      فقط یک بار هر یک ربع ساعت 1 درصد شارژ کرد بعدش...            0\n",
       "4      قیمت این کالا خیلی تغییر میکنه . من خریدم چندر...            1\n",
       "...                                                  ...          ...\n",
       "39995  خیلی خوبه واسه گوشی m20ولی یه ترک از پایین داش...            0\n",
       "39996  چند روزه دارم استفاده میکنم در یک کلام عالیه\\r...            1\n",
       "39997  من سی تومن خریدم و با توجه به قیمت ارزش خرید د...            1\n",
       "39998  عالیه از هر نظر \\nهم قیمتش کمه \\nهم قطعاتش زیا...            0\n",
       "39999  من برای داخل ماشین جاهای که دست نمیره خریدم یه...            0\n",
       "\n",
       "[40000 rows x 2 columns]"
      ]
     },
     "execution_count": 2,
     "metadata": {},
     "output_type": "execute_result"
    }
   ],
   "source": [
    "train_data = pd.read_csv('train.csv')\n",
    "train_data"
   ]
  },
  {
   "cell_type": "code",
   "execution_count": 3,
   "id": "9b7f06ec",
   "metadata": {},
   "outputs": [
    {
     "data": {
      "text/html": [
       "<div>\n",
       "<style scoped>\n",
       "    .dataframe tbody tr th:only-of-type {\n",
       "        vertical-align: middle;\n",
       "    }\n",
       "\n",
       "    .dataframe tbody tr th {\n",
       "        vertical-align: top;\n",
       "    }\n",
       "\n",
       "    .dataframe thead th {\n",
       "        text-align: right;\n",
       "    }\n",
       "</style>\n",
       "<table border=\"1\" class=\"dataframe\">\n",
       "  <thead>\n",
       "    <tr style=\"text-align: right;\">\n",
       "      <th></th>\n",
       "      <th>comment</th>\n",
       "      <th>price_value</th>\n",
       "    </tr>\n",
       "  </thead>\n",
       "  <tbody>\n",
       "    <tr>\n",
       "      <th>0</th>\n",
       "      <td>قیمت مناسب وکیفیت خوب پیشنهادمیکنم حتما خرید کنید</td>\n",
       "      <td>1</td>\n",
       "    </tr>\n",
       "    <tr>\n",
       "      <th>1</th>\n",
       "      <td>به اندازه یک میلیمتر دورتادور گوشی خالی میماند...</td>\n",
       "      <td>0</td>\n",
       "    </tr>\n",
       "    <tr>\n",
       "      <th>2</th>\n",
       "      <td>از همه نظر عالی و یک خرید خوب در  قیمت حدود۴۰ ...</td>\n",
       "      <td>1</td>\n",
       "    </tr>\n",
       "    <tr>\n",
       "      <th>3</th>\n",
       "      <td>فقط یک بار هر یک ربع ساعت 1 درصد شارژ کرد بعدش...</td>\n",
       "      <td>0</td>\n",
       "    </tr>\n",
       "    <tr>\n",
       "      <th>4</th>\n",
       "      <td>قیمت این کالا خیلی تغییر میکنه . من خریدم چندر...</td>\n",
       "      <td>1</td>\n",
       "    </tr>\n",
       "    <tr>\n",
       "      <th>...</th>\n",
       "      <td>...</td>\n",
       "      <td>...</td>\n",
       "    </tr>\n",
       "    <tr>\n",
       "      <th>39995</th>\n",
       "      <td>خیلی خوبه واسه گوشی m20ولی یه ترک از پایین داش...</td>\n",
       "      <td>0</td>\n",
       "    </tr>\n",
       "    <tr>\n",
       "      <th>39996</th>\n",
       "      <td>چند روزه دارم استفاده میکنم در یک کلام عالیه\\r...</td>\n",
       "      <td>1</td>\n",
       "    </tr>\n",
       "    <tr>\n",
       "      <th>39997</th>\n",
       "      <td>من سی تومن خریدم و با توجه به قیمت ارزش خرید د...</td>\n",
       "      <td>1</td>\n",
       "    </tr>\n",
       "    <tr>\n",
       "      <th>39998</th>\n",
       "      <td>عالیه از هر نظر \\nهم قیمتش کمه \\nهم قطعاتش زیا...</td>\n",
       "      <td>0</td>\n",
       "    </tr>\n",
       "    <tr>\n",
       "      <th>39999</th>\n",
       "      <td>من برای داخل ماشین جاهای که دست نمیره خریدم یه...</td>\n",
       "      <td>0</td>\n",
       "    </tr>\n",
       "  </tbody>\n",
       "</table>\n",
       "<p>40000 rows × 2 columns</p>\n",
       "</div>"
      ],
      "text/plain": [
       "                                                 comment  price_value\n",
       "0      قیمت مناسب وکیفیت خوب پیشنهادمیکنم حتما خرید کنید            1\n",
       "1      به اندازه یک میلیمتر دورتادور گوشی خالی میماند...            0\n",
       "2      از همه نظر عالی و یک خرید خوب در  قیمت حدود۴۰ ...            1\n",
       "3      فقط یک بار هر یک ربع ساعت 1 درصد شارژ کرد بعدش...            0\n",
       "4      قیمت این کالا خیلی تغییر میکنه . من خریدم چندر...            1\n",
       "...                                                  ...          ...\n",
       "39995  خیلی خوبه واسه گوشی m20ولی یه ترک از پایین داش...            0\n",
       "39996  چند روزه دارم استفاده میکنم در یک کلام عالیه\\r...            1\n",
       "39997  من سی تومن خریدم و با توجه به قیمت ارزش خرید د...            1\n",
       "39998  عالیه از هر نظر \\nهم قیمتش کمه \\nهم قطعاتش زیا...            0\n",
       "39999  من برای داخل ماشین جاهای که دست نمیره خریدم یه...            0\n",
       "\n",
       "[40000 rows x 2 columns]"
      ]
     },
     "execution_count": 3,
     "metadata": {},
     "output_type": "execute_result"
    }
   ],
   "source": [
    "test_data = pd.read_csv('train.csv')\n",
    "test_data"
   ]
  },
  {
   "cell_type": "code",
   "execution_count": 4,
   "id": "55c3e992",
   "metadata": {},
   "outputs": [],
   "source": [
    "from hazm import Normalizer, word_tokenize, Stemmer, stopwords_list\n",
    "import re\n",
    "\n",
    "normalizer = Normalizer()\n",
    "stemmer = Stemmer()\n",
    "stop_words = set(stopwords_list())\n",
    "\n",
    "def preprocessing(comment):\n",
    "    filtered = []\n",
    "    \n",
    "    # نرمال‌سازی\n",
    "    comment = normalizer.normalize(comment)\n",
    "\n",
    "    # حذف اعداد و نمادها (فقط حروف و فاصله نگه داشته می‌شود)\n",
    "    comment = re.sub(r'[^\\u0600-\\u06FF\\s]', '', comment)  # حذف غیرحروف فارسی\n",
    "\n",
    "    # توکن‌سازی\n",
    "    tokens = word_tokenize(comment)\n",
    "\n",
    "    for token in tokens:\n",
    "        if token not in stop_words and len(token) > 1:\n",
    "            stemmed = stemmer.stem(token)\n",
    "            filtered.append(stemmed)\n",
    "\n",
    "    return filtered"
   ]
  },
  {
   "cell_type": "code",
   "execution_count": 5,
   "id": "aa1c14fc",
   "metadata": {},
   "outputs": [],
   "source": [
    "train_data['tokens'] = train_data['comment'].apply(preprocessing)"
   ]
  },
  {
   "cell_type": "code",
   "execution_count": 6,
   "id": "17797ac8",
   "metadata": {},
   "outputs": [
    {
     "name": "stdout",
     "output_type": "stream",
     "text": [
      "{0: 0.520025, 1: 0.479975}\n"
     ]
    }
   ],
   "source": [
    "prior_probability = train_data['price_value'].value_counts(normalize=True).to_dict()\n",
    "print(prior_probability)"
   ]
  },
  {
   "cell_type": "code",
   "execution_count": 7,
   "id": "eb78729e",
   "metadata": {},
   "outputs": [],
   "source": [
    "from sklearn.model_selection import train_test_split\n",
    "x = train_data['comment']\n",
    "y = train_data['price_value']\n",
    "\n",
    "x_train, x_test, y_train, y_test = train_test_split(x, y, test_size=0.2, random_state=42)\n",
    "\n",
    "df_train = pd.DataFrame({'comment': x_train, 'price_value': y_train})\n",
    "df_train['price_value'].value_counts(normalize=True)\n",
    "df_test = pd.DataFrame({'comment': x_test, 'price_value': y_test})"
   ]
  },
  {
   "cell_type": "code",
   "execution_count": 8,
   "id": "ff06a263",
   "metadata": {},
   "outputs": [],
   "source": [
    "from collections import defaultdict\n",
    "def token_counter(df_train, preprocessing):\n",
    "    token_counts_0 = defaultdict(int)\n",
    "    token_counts_1 = defaultdict(int)\n",
    "    total_tokens_0 = 0\n",
    "    total_tokens_1 = 0\n",
    "\n",
    "    for _, row in df_train.iterrows():\n",
    "        text = row['comment']\n",
    "        label = row['price_value']\n",
    "        tokens = preprocessing(text)\n",
    "        if label == 0:\n",
    "            for token in tokens:\n",
    "                token_counts_0[token] += 1\n",
    "        elif label == 1:\n",
    "            for token in tokens:\n",
    "                token_counts_1[token] +=1\n",
    "    return dict(token_counts_0), dict(token_counts_1), total_tokens_0, total_tokens_1"
   ]
  },
  {
   "cell_type": "code",
   "execution_count": 9,
   "id": "7cdf7bc2",
   "metadata": {},
   "outputs": [],
   "source": [
    "token_counts_0, token_counts_1, total_tokens_0, total_tokens_1 = token_counter(df_train, preprocessing)"
   ]
  },
  {
   "cell_type": "code",
   "execution_count": 10,
   "id": "451ee3d4",
   "metadata": {},
   "outputs": [],
   "source": [
    "num_class_0 = df_train[df_train['price_value'] == 0].shape[0]\n",
    "num_class_1 = df_train[df_train['price_value'] == 1].shape[0]\n",
    "total_samples = len(df_train)\n",
    "\n",
    "p0 = num_class_0 / total_samples\n",
    "p1 = num_class_1 / total_samples\n",
    "\n",
    "vocab = set(list(token_counts_0.keys()) + list(token_counts_1.keys()))"
   ]
  },
  {
   "cell_type": "code",
   "execution_count": 11,
   "id": "08480b46",
   "metadata": {},
   "outputs": [],
   "source": [
    "import math\n",
    "def compute_probability(text, class_label):\n",
    "    tokens = preprocessing(text)\n",
    "    \n",
    "    if class_label == 0:\n",
    "        prior = p0\n",
    "        token_counts = token_counts_0\n",
    "        total_tokens = total_tokens_0\n",
    "    else:\n",
    "        prior = p1\n",
    "        token_counts = token_counts_1\n",
    "        total_tokens = total_tokens_1\n",
    "\n",
    "    log_prob = math.log(prior)\n",
    "    \n",
    "    \n",
    "    \n",
    "    for token in tokens:\n",
    "        token_prob = (token_counts.get(token, 0) + 1) / (total_tokens + len(vocab))\n",
    "        log_prob += math.log(token_prob)\n",
    "    return math.exp(log_prob)"
   ]
  },
  {
   "cell_type": "code",
   "execution_count": 12,
   "id": "67a7faf1",
   "metadata": {},
   "outputs": [],
   "source": [
    "def predict(text_list):\n",
    "    predictions = []\n",
    "    for text in text_list:\n",
    "        prob_0 = compute_probability(text, 0)\n",
    "        prob_1 = compute_probability(text, 1)\n",
    "        predicted_label = 0 if prob_0 > prob_1 else 1\n",
    "        predictions.append(predicted_label)\n",
    "    return np.array(predictions)"
   ]
  },
  {
   "cell_type": "code",
   "execution_count": 13,
   "id": "a41ea123",
   "metadata": {},
   "outputs": [
    {
     "name": "stdout",
     "output_type": "stream",
     "text": [
      "Accuracy: 0.839\n",
      "              precision    recall  f1-score   support\n",
      "\n",
      "           0       0.86      0.83      0.84      4145\n",
      "           1       0.82      0.85      0.84      3855\n",
      "\n",
      "    accuracy                           0.84      8000\n",
      "   macro avg       0.84      0.84      0.84      8000\n",
      "weighted avg       0.84      0.84      0.84      8000\n",
      "\n"
     ]
    }
   ],
   "source": [
    "from sklearn.metrics import accuracy_score, classification_report\n",
    "\n",
    "y_test = df_test['price_value']  # برچسب‌های واقعی تست\n",
    "y_pred = predict(df_test['comment'].tolist())\n",
    "\n",
    "print(\"Accuracy:\", accuracy_score(y_test, y_pred))\n",
    "print(classification_report(y_test, y_pred))"
   ]
  },
  {
   "cell_type": "code",
   "execution_count": 14,
   "id": "1fc7583f",
   "metadata": {},
   "outputs": [
    {
     "name": "stdout",
     "output_type": "stream",
     "text": [
      "   price_value  predicted_label\n",
      "0            1                1\n",
      "1            1                1\n",
      "2            0                0\n",
      "3            0                0\n",
      "4            0                0\n"
     ]
    }
   ],
   "source": [
    "submission = pd.DataFrame({\n",
    "    'price_value': y_test.values,\n",
    "    'predicted_label': y_pred\n",
    "})\n",
    "\n",
    "print(submission.head())\n",
    "\n",
    "submission.to_csv('submission.csv', index=False)"
   ]
  }
 ],
 "metadata": {
  "kernelspec": {
   "display_name": "Python 3",
   "language": "python",
   "name": "python3"
  },
  "language_info": {
   "codemirror_mode": {
    "name": "ipython",
    "version": 3
   },
   "file_extension": ".py",
   "mimetype": "text/x-python",
   "name": "python",
   "nbconvert_exporter": "python",
   "pygments_lexer": "ipython3",
   "version": "3.11.13"
  }
 },
 "nbformat": 4,
 "nbformat_minor": 5
}
